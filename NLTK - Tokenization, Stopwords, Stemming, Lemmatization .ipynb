{
 "cells": [
  {
   "cell_type": "markdown",
   "id": "88647129-2c52-4790-8d90-f336df3140a6",
   "metadata": {},
   "source": [
    "# NLP Preprocessing with NLTK and Scikit-learn\n",
    "\n",
    "This notebook demonstrates fundamental NLP preprocessing steps including:\n",
    "- Tokenization\n",
    "- Stopwords Removal\n",
    "- Stemming\n",
    "- Lemmatization\n",
    "- Bag of Words (BOW) representation\n",
    "\n",
    "These are foundational techniques used in text preprocessing before applying machine learning or deep learning models."
   ]
  },
  {
   "cell_type": "markdown",
   "id": "649d2fbb-7e12-473e-aac3-85b5f79c9595",
   "metadata": {},
   "source": [
    "## Summary\n",
    "- **Tokenization**: Splits text into words and sentences  \n",
    "- **Stopwords Removal**: Removes common filler words  \n",
    "- **Stemming**: Reduces words to crude root forms (may not always be valid words)  \n",
    "- **Lemmatization**: Converts words to meaningful dictionary root forms  \n",
    "- **Bag of Words**: Converts text into numerical representation for ML models  \n",
    "\n",
    "This workflow forms the foundation for more advanced NLP tasks like text classification, topic modeling, and sentiment analysis. "
   ]
  },
  {
   "cell_type": "code",
   "execution_count": 132,
   "id": "acb1110c-1f07-4459-a527-36b66d87a166",
   "metadata": {},
   "outputs": [
    {
     "name": "stdout",
     "output_type": "stream",
     "text": [
      "Requirement already satisfied: nltk in /opt/miniconda3/lib/python3.13/site-packages (3.9.1)\n",
      "Requirement already satisfied: click in /opt/miniconda3/lib/python3.13/site-packages (from nltk) (8.2.1)\n",
      "Requirement already satisfied: joblib in /opt/miniconda3/lib/python3.13/site-packages (from nltk) (1.5.2)\n",
      "Requirement already satisfied: regex>=2021.8.3 in /opt/miniconda3/lib/python3.13/site-packages (from nltk) (2025.9.1)\n",
      "Requirement already satisfied: tqdm in /opt/miniconda3/lib/python3.13/site-packages (from nltk) (4.67.1)\n"
     ]
    }
   ],
   "source": [
    "!pip install nltk"
   ]
  },
  {
   "cell_type": "code",
   "execution_count": 133,
   "id": "15ec5ca2-2c18-400e-9be8-4e07e30fb11f",
   "metadata": {},
   "outputs": [],
   "source": [
    "paragraph = \"\"\" Donald John Trump (born June 14, 1946) is an American politician, media personality, and businessman who is the 47th president of the United States. A member of the Republican Party, he served as the 45th president from 2017 to 2021.\n",
    "\n",
    "Born into a wealthy family in New York City, Trump graduated from the University of Pennsylvania in 1968 with a bachelor's degree in economics. He became the president of his family's real estate business in 1971, renamed it the Trump Organization, and began acquiring and building skyscrapers, hotels, casinos, and golf courses. He launched side ventures, many licensing the Trump name, and filed for six business bankruptcies in the 1990s and 2000s. From 2004 to 2015, he hosted the reality television show The Apprentice, bolstering his fame as a billionaire. Presenting himself as a political outsider, Trump won the 2016 presidential election against Democratic Party nominee Hillary Clinton.\n",
    "\"\"\""
   ]
  },
  {
   "cell_type": "code",
   "execution_count": 134,
   "id": "cea0900c-daae-4da0-b8e8-2e64481510fb",
   "metadata": {},
   "outputs": [
    {
     "data": {
      "text/plain": [
       "\" Donald John Trump (born June 14, 1946) is an American politician, media personality, and businessman who is the 47th president of the United States. A member of the Republican Party, he served as the 45th president from 2017 to 2021.\\n\\nBorn into a wealthy family in New York City, Trump graduated from the University of Pennsylvania in 1968 with a bachelor's degree in economics. He became the president of his family's real estate business in 1971, renamed it the Trump Organization, and began acquiring and building skyscrapers, hotels, casinos, and golf courses. He launched side ventures, many licensing the Trump name, and filed for six business bankruptcies in the 1990s and 2000s. From 2004 to 2015, he hosted the reality television show The Apprentice, bolstering his fame as a billionaire. Presenting himself as a political outsider, Trump won the 2016 presidential election against Democratic Party nominee Hillary Clinton.\\n\""
      ]
     },
     "execution_count": 134,
     "metadata": {},
     "output_type": "execute_result"
    }
   ],
   "source": [
    "paragraph"
   ]
  },
  {
   "cell_type": "code",
   "execution_count": 135,
   "id": "5623bfb8-6cfb-48b2-a8cd-8033fd5e5ab4",
   "metadata": {},
   "outputs": [],
   "source": [
    "import nltk\n",
    "from nltk.stem import PorterStemmer\n",
    "from nltk.corpus import stopwords"
   ]
  },
  {
   "cell_type": "code",
   "execution_count": 136,
   "id": "c48e6c7c-3577-4065-a037-ab9bf1fa2275",
   "metadata": {},
   "outputs": [
    {
     "name": "stderr",
     "output_type": "stream",
     "text": [
      "[nltk_data] Downloading package punkt to\n",
      "[nltk_data]     /Users/harpreetgill/nltk_data...\n",
      "[nltk_data]   Package punkt is already up-to-date!\n",
      "[nltk_data] Downloading package punkt_tab to\n",
      "[nltk_data]     /Users/harpreetgill/nltk_data...\n",
      "[nltk_data]   Package punkt_tab is already up-to-date!\n"
     ]
    }
   ],
   "source": [
    "##tokenization -- converts paragraph -> sentences -> words\n",
    "\n",
    "nltk.download(\"punkt\")\n",
    "nltk.download(\"punkt_tab\")\n",
    "sentences = nltk.sent_tokenize(paragraph)"
   ]
  },
  {
   "cell_type": "code",
   "execution_count": 137,
   "id": "f05c3c0b-19ad-4a07-ae16-157c83a237ea",
   "metadata": {},
   "outputs": [
    {
     "name": "stdout",
     "output_type": "stream",
     "text": [
      "[' Donald John Trump (born June 14, 1946) is an American politician, media personality, and businessman who is the 47th president of the United States.', 'A member of the Republican Party, he served as the 45th president from 2017 to 2021.', \"Born into a wealthy family in New York City, Trump graduated from the University of Pennsylvania in 1968 with a bachelor's degree in economics.\", \"He became the president of his family's real estate business in 1971, renamed it the Trump Organization, and began acquiring and building skyscrapers, hotels, casinos, and golf courses.\", 'He launched side ventures, many licensing the Trump name, and filed for six business bankruptcies in the 1990s and 2000s.', 'From 2004 to 2015, he hosted the reality television show The Apprentice, bolstering his fame as a billionaire.', 'Presenting himself as a political outsider, Trump won the 2016 presidential election against Democratic Party nominee Hillary Clinton.']\n"
     ]
    }
   ],
   "source": [
    "print(sentences)"
   ]
  },
  {
   "cell_type": "code",
   "execution_count": 138,
   "id": "05ef5a39-b227-475d-b1b9-ef10a57d2d90",
   "metadata": {},
   "outputs": [
    {
     "data": {
      "text/plain": [
       "list"
      ]
     },
     "execution_count": 138,
     "metadata": {},
     "output_type": "execute_result"
    }
   ],
   "source": [
    "type(sentences)"
   ]
  },
  {
   "cell_type": "code",
   "execution_count": 139,
   "id": "3fcadde7-3df2-4cf9-9e9d-a1b678c5316f",
   "metadata": {},
   "outputs": [],
   "source": [
    "#Stemming -- helps to find base root word\n",
    "\n",
    "stemmer = PorterStemmer()"
   ]
  },
  {
   "cell_type": "code",
   "execution_count": 140,
   "id": "a3bbfca7-3fdb-49ce-bec2-fc1deaafae4d",
   "metadata": {},
   "outputs": [
    {
     "data": {
      "text/plain": [
       "'histori'"
      ]
     },
     "execution_count": 140,
     "metadata": {},
     "output_type": "execute_result"
    }
   ],
   "source": [
    "stemmer.stem('history')"
   ]
  },
  {
   "cell_type": "code",
   "execution_count": 141,
   "id": "96c5e4ef-1459-42d6-a2c7-91caafbcc37b",
   "metadata": {},
   "outputs": [
    {
     "data": {
      "text/plain": [
       "'think'"
      ]
     },
     "execution_count": 141,
     "metadata": {},
     "output_type": "execute_result"
    }
   ],
   "source": [
    "stemmer.stem('thinking')"
   ]
  },
  {
   "cell_type": "code",
   "execution_count": 142,
   "id": "9cafb753-3561-4718-a490-86422810897f",
   "metadata": {},
   "outputs": [
    {
     "data": {
      "text/plain": [
       "'bankruptci'"
      ]
     },
     "execution_count": 142,
     "metadata": {},
     "output_type": "execute_result"
    }
   ],
   "source": [
    "stemmer.stem('bankruptcies')"
   ]
  },
  {
   "cell_type": "code",
   "execution_count": 143,
   "id": "7561f26d-3136-44da-9e1e-7e0bc68a2194",
   "metadata": {},
   "outputs": [
    {
     "name": "stderr",
     "output_type": "stream",
     "text": [
      "[nltk_data] Downloading package wordnet to\n",
      "[nltk_data]     /Users/harpreetgill/nltk_data...\n",
      "[nltk_data]   Package wordnet is already up-to-date!\n"
     ]
    },
    {
     "data": {
      "text/plain": [
       "True"
      ]
     },
     "execution_count": 143,
     "metadata": {},
     "output_type": "execute_result"
    }
   ],
   "source": [
    "#Lemmatizer -- provides the base word with correct spellings/meaning\n",
    "\n",
    "from nltk.stem import WordNetLemmatizer\n",
    "nltk.download(\"wordnet\")"
   ]
  },
  {
   "cell_type": "code",
   "execution_count": 144,
   "id": "5ec85dee-bd9c-4aa3-a9cb-fcd57ba9a6f0",
   "metadata": {},
   "outputs": [],
   "source": [
    "lemmatizer = WordNetLemmatizer()"
   ]
  },
  {
   "cell_type": "code",
   "execution_count": 145,
   "id": "209dfe03-6a4f-41e3-a33d-16ffd51fdf38",
   "metadata": {},
   "outputs": [
    {
     "data": {
      "text/plain": [
       "'history'"
      ]
     },
     "execution_count": 145,
     "metadata": {},
     "output_type": "execute_result"
    }
   ],
   "source": [
    "lemmatizer.lemmatize('history')"
   ]
  },
  {
   "cell_type": "code",
   "execution_count": 146,
   "id": "41688aa8-1af1-4ef8-b075-feeb1a04879a",
   "metadata": {},
   "outputs": [
    {
     "data": {
      "text/plain": [
       "'thinking'"
      ]
     },
     "execution_count": 146,
     "metadata": {},
     "output_type": "execute_result"
    }
   ],
   "source": [
    "lemmatizer.lemmatize('thinking')"
   ]
  },
  {
   "cell_type": "code",
   "execution_count": 147,
   "id": "4615f4b1-1425-4044-81e2-9b510ff1aad6",
   "metadata": {},
   "outputs": [
    {
     "data": {
      "text/plain": [
       "'bankruptcy'"
      ]
     },
     "execution_count": 147,
     "metadata": {},
     "output_type": "execute_result"
    }
   ],
   "source": [
    "lemmatizer.lemmatize('bankruptcies')"
   ]
  },
  {
   "cell_type": "code",
   "execution_count": 148,
   "id": "0bd3fca1-d528-47d9-853d-db97e04a37cd",
   "metadata": {},
   "outputs": [],
   "source": [
    "##Text Cleaning\n",
    "\n",
    "import re\n",
    "corpus = []\n",
    "for i in range(len(sentences)):\n",
    "    text = re.sub('[^a-zA-Z]', ' ', sentences[i])\n",
    "    text = text.lower()\n",
    "    corpus.append(text)"
   ]
  },
  {
   "cell_type": "code",
   "execution_count": 149,
   "id": "78f6df50-c48c-4d60-905f-9cc30bf5d07c",
   "metadata": {},
   "outputs": [
    {
     "data": {
      "text/plain": [
       "[' donald john trump  born june           is an american politician  media personality  and businessman who is the   th president of the united states ',\n",
       " 'a member of the republican party  he served as the   th president from      to      ',\n",
       " 'born into a wealthy family in new york city  trump graduated from the university of pennsylvania in      with a bachelor s degree in economics ',\n",
       " 'he became the president of his family s real estate business in       renamed it the trump organization  and began acquiring and building skyscrapers  hotels  casinos  and golf courses ',\n",
       " 'he launched side ventures  many licensing the trump name  and filed for six business bankruptcies in the     s and     s ',\n",
       " 'from      to       he hosted the reality television show the apprentice  bolstering his fame as a billionaire ',\n",
       " 'presenting himself as a political outsider  trump won the      presidential election against democratic party nominee hillary clinton ']"
      ]
     },
     "execution_count": 149,
     "metadata": {},
     "output_type": "execute_result"
    }
   ],
   "source": [
    "corpus"
   ]
  },
  {
   "cell_type": "code",
   "execution_count": 150,
   "id": "8531a483-3f29-410b-aa91-2d093222314e",
   "metadata": {},
   "outputs": [
    {
     "name": "stderr",
     "output_type": "stream",
     "text": [
      "[nltk_data] Downloading package stopwords to\n",
      "[nltk_data]     /Users/harpreetgill/nltk_data...\n",
      "[nltk_data]   Package stopwords is already up-to-date!\n"
     ]
    },
    {
     "data": {
      "text/plain": [
       "['a',\n",
       " 'about',\n",
       " 'above',\n",
       " 'after',\n",
       " 'again',\n",
       " 'against',\n",
       " 'ain',\n",
       " 'all',\n",
       " 'am',\n",
       " 'an',\n",
       " 'and',\n",
       " 'any',\n",
       " 'are',\n",
       " 'aren',\n",
       " \"aren't\",\n",
       " 'as',\n",
       " 'at',\n",
       " 'be',\n",
       " 'because',\n",
       " 'been',\n",
       " 'before',\n",
       " 'being',\n",
       " 'below',\n",
       " 'between',\n",
       " 'both',\n",
       " 'but',\n",
       " 'by',\n",
       " 'can',\n",
       " 'couldn',\n",
       " \"couldn't\",\n",
       " 'd',\n",
       " 'did',\n",
       " 'didn',\n",
       " \"didn't\",\n",
       " 'do',\n",
       " 'does',\n",
       " 'doesn',\n",
       " \"doesn't\",\n",
       " 'doing',\n",
       " 'don',\n",
       " \"don't\",\n",
       " 'down',\n",
       " 'during',\n",
       " 'each',\n",
       " 'few',\n",
       " 'for',\n",
       " 'from',\n",
       " 'further',\n",
       " 'had',\n",
       " 'hadn',\n",
       " \"hadn't\",\n",
       " 'has',\n",
       " 'hasn',\n",
       " \"hasn't\",\n",
       " 'have',\n",
       " 'haven',\n",
       " \"haven't\",\n",
       " 'having',\n",
       " 'he',\n",
       " \"he'd\",\n",
       " \"he'll\",\n",
       " 'her',\n",
       " 'here',\n",
       " 'hers',\n",
       " 'herself',\n",
       " \"he's\",\n",
       " 'him',\n",
       " 'himself',\n",
       " 'his',\n",
       " 'how',\n",
       " 'i',\n",
       " \"i'd\",\n",
       " 'if',\n",
       " \"i'll\",\n",
       " \"i'm\",\n",
       " 'in',\n",
       " 'into',\n",
       " 'is',\n",
       " 'isn',\n",
       " \"isn't\",\n",
       " 'it',\n",
       " \"it'd\",\n",
       " \"it'll\",\n",
       " \"it's\",\n",
       " 'its',\n",
       " 'itself',\n",
       " \"i've\",\n",
       " 'just',\n",
       " 'll',\n",
       " 'm',\n",
       " 'ma',\n",
       " 'me',\n",
       " 'mightn',\n",
       " \"mightn't\",\n",
       " 'more',\n",
       " 'most',\n",
       " 'mustn',\n",
       " \"mustn't\",\n",
       " 'my',\n",
       " 'myself',\n",
       " 'needn',\n",
       " \"needn't\",\n",
       " 'no',\n",
       " 'nor',\n",
       " 'not',\n",
       " 'now',\n",
       " 'o',\n",
       " 'of',\n",
       " 'off',\n",
       " 'on',\n",
       " 'once',\n",
       " 'only',\n",
       " 'or',\n",
       " 'other',\n",
       " 'our',\n",
       " 'ours',\n",
       " 'ourselves',\n",
       " 'out',\n",
       " 'over',\n",
       " 'own',\n",
       " 're',\n",
       " 's',\n",
       " 'same',\n",
       " 'shan',\n",
       " \"shan't\",\n",
       " 'she',\n",
       " \"she'd\",\n",
       " \"she'll\",\n",
       " \"she's\",\n",
       " 'should',\n",
       " 'shouldn',\n",
       " \"shouldn't\",\n",
       " \"should've\",\n",
       " 'so',\n",
       " 'some',\n",
       " 'such',\n",
       " 't',\n",
       " 'than',\n",
       " 'that',\n",
       " \"that'll\",\n",
       " 'the',\n",
       " 'their',\n",
       " 'theirs',\n",
       " 'them',\n",
       " 'themselves',\n",
       " 'then',\n",
       " 'there',\n",
       " 'these',\n",
       " 'they',\n",
       " \"they'd\",\n",
       " \"they'll\",\n",
       " \"they're\",\n",
       " \"they've\",\n",
       " 'this',\n",
       " 'those',\n",
       " 'through',\n",
       " 'to',\n",
       " 'too',\n",
       " 'under',\n",
       " 'until',\n",
       " 'up',\n",
       " 've',\n",
       " 'very',\n",
       " 'was',\n",
       " 'wasn',\n",
       " \"wasn't\",\n",
       " 'we',\n",
       " \"we'd\",\n",
       " \"we'll\",\n",
       " \"we're\",\n",
       " 'were',\n",
       " 'weren',\n",
       " \"weren't\",\n",
       " \"we've\",\n",
       " 'what',\n",
       " 'when',\n",
       " 'where',\n",
       " 'which',\n",
       " 'while',\n",
       " 'who',\n",
       " 'whom',\n",
       " 'why',\n",
       " 'will',\n",
       " 'with',\n",
       " 'won',\n",
       " \"won't\",\n",
       " 'wouldn',\n",
       " \"wouldn't\",\n",
       " 'y',\n",
       " 'you',\n",
       " \"you'd\",\n",
       " \"you'll\",\n",
       " 'your',\n",
       " \"you're\",\n",
       " 'yours',\n",
       " 'yourself',\n",
       " 'yourselves',\n",
       " \"you've\"]"
      ]
     },
     "execution_count": 150,
     "metadata": {},
     "output_type": "execute_result"
    }
   ],
   "source": [
    "nltk.download('stopwords')\n",
    "\n",
    "stopwords.words('english')"
   ]
  },
  {
   "cell_type": "code",
   "execution_count": 151,
   "id": "33946549-4b60-4c52-8a09-9b540b7dacee",
   "metadata": {},
   "outputs": [
    {
     "name": "stdout",
     "output_type": "stream",
     "text": [
      "donald\n",
      "john\n",
      "trump\n",
      "born\n",
      "june\n",
      "american\n",
      "politician\n",
      "media\n",
      "person\n",
      "businessman\n",
      "th\n",
      "presid\n",
      "unit\n",
      "state\n",
      "member\n",
      "republican\n",
      "parti\n",
      "serv\n",
      "th\n",
      "presid\n",
      "born\n",
      "wealthi\n",
      "famili\n",
      "new\n",
      "york\n",
      "citi\n",
      "trump\n",
      "graduat\n",
      "univers\n",
      "pennsylvania\n",
      "bachelor\n",
      "degre\n",
      "econom\n",
      "becam\n",
      "presid\n",
      "famili\n",
      "real\n",
      "estat\n",
      "busi\n",
      "renam\n",
      "trump\n",
      "organ\n",
      "began\n",
      "acquir\n",
      "build\n",
      "skyscrap\n",
      "hotel\n",
      "casino\n",
      "golf\n",
      "cours\n",
      "launch\n",
      "side\n",
      "ventur\n",
      "mani\n",
      "licens\n",
      "trump\n",
      "name\n",
      "file\n",
      "six\n",
      "busi\n",
      "bankruptci\n",
      "host\n",
      "realiti\n",
      "televis\n",
      "show\n",
      "apprentic\n",
      "bolster\n",
      "fame\n",
      "billionair\n",
      "present\n",
      "polit\n",
      "outsid\n",
      "trump\n",
      "presidenti\n",
      "elect\n",
      "democrat\n",
      "parti\n",
      "nomine\n",
      "hillari\n",
      "clinton\n"
     ]
    }
   ],
   "source": [
    "##stemming\n",
    "\n",
    "for i in corpus:\n",
    "    words = nltk.word_tokenize(i)\n",
    "    for word in words:\n",
    "        if word not in set(stopwords.words('english')):\n",
    "            print(stemmer.stem(word))"
   ]
  },
  {
   "cell_type": "code",
   "execution_count": 152,
   "id": "4c9a4066-bfe7-4033-aed0-dc5d8d67c6ba",
   "metadata": {},
   "outputs": [
    {
     "name": "stdout",
     "output_type": "stream",
     "text": [
      "donald\n",
      "john\n",
      "trump\n",
      "born\n",
      "june\n",
      "american\n",
      "politician\n",
      "medium\n",
      "personality\n",
      "businessman\n",
      "th\n",
      "president\n",
      "united\n",
      "state\n",
      "member\n",
      "republican\n",
      "party\n",
      "served\n",
      "th\n",
      "president\n",
      "born\n",
      "wealthy\n",
      "family\n",
      "new\n",
      "york\n",
      "city\n",
      "trump\n",
      "graduated\n",
      "university\n",
      "pennsylvania\n",
      "bachelor\n",
      "degree\n",
      "economics\n",
      "became\n",
      "president\n",
      "family\n",
      "real\n",
      "estate\n",
      "business\n",
      "renamed\n",
      "trump\n",
      "organization\n",
      "began\n",
      "acquiring\n",
      "building\n",
      "skyscraper\n",
      "hotel\n",
      "casino\n",
      "golf\n",
      "course\n",
      "launched\n",
      "side\n",
      "venture\n",
      "many\n",
      "licensing\n",
      "trump\n",
      "name\n",
      "filed\n",
      "six\n",
      "business\n",
      "bankruptcy\n",
      "hosted\n",
      "reality\n",
      "television\n",
      "show\n",
      "apprentice\n",
      "bolstering\n",
      "fame\n",
      "billionaire\n",
      "presenting\n",
      "political\n",
      "outsider\n",
      "trump\n",
      "presidential\n",
      "election\n",
      "democratic\n",
      "party\n",
      "nominee\n",
      "hillary\n",
      "clinton\n"
     ]
    }
   ],
   "source": [
    "##Lemmatization\n",
    "\n",
    "for i in corpus:\n",
    "    words = nltk.word_tokenize(i)\n",
    "    for word in words:\n",
    "        if word not in set(stopwords.words('english')):\n",
    "            print(lemmatizer.lemmatize(word))"
   ]
  },
  {
   "cell_type": "code",
   "execution_count": 153,
   "id": "aaf4cc5f-7479-43b3-9731-5c99bc5406b2",
   "metadata": {},
   "outputs": [],
   "source": [
    "#Apply stopwords and lemmatize\n",
    "\n",
    "import re\n",
    "corpus = []\n",
    "for i in range(len(sentences)):\n",
    "    text = re.sub('[^a-zA-Z]', ' ', sentences[i])\n",
    "    text = text.lower()\n",
    "    text = text.split()\n",
    "    text = [lemmatizer.lemmatize(word) for word in text if not word in set(stopwords.words('english'))]\n",
    "    text = ' '.join(text)\n",
    "    corpus.append(text)"
   ]
  },
  {
   "cell_type": "code",
   "execution_count": 154,
   "id": "f770f35b-31e9-4cf8-bf47-d9a4bf648808",
   "metadata": {},
   "outputs": [
    {
     "name": "stdout",
     "output_type": "stream",
     "text": [
      "Requirement already satisfied: scikit-learn in /opt/miniconda3/lib/python3.13/site-packages (1.7.2)\n",
      "Requirement already satisfied: numpy>=1.22.0 in /opt/miniconda3/lib/python3.13/site-packages (from scikit-learn) (2.2.5)\n",
      "Requirement already satisfied: scipy>=1.8.0 in /opt/miniconda3/lib/python3.13/site-packages (from scikit-learn) (1.16.2)\n",
      "Requirement already satisfied: joblib>=1.2.0 in /opt/miniconda3/lib/python3.13/site-packages (from scikit-learn) (1.5.2)\n",
      "Requirement already satisfied: threadpoolctl>=3.1.0 in /opt/miniconda3/lib/python3.13/site-packages (from scikit-learn) (3.6.0)\n"
     ]
    }
   ],
   "source": [
    "##Bag of Words (BOW)\n",
    "!pip install scikit-learn\n",
    "from sklearn.feature_extraction.text import CountVectorizer\n",
    "cv = CountVectorizer(binary = True)"
   ]
  },
  {
   "cell_type": "code",
   "execution_count": 155,
   "id": "8bac0bf6-c9e3-4e37-8ec6-a66383e3219f",
   "metadata": {},
   "outputs": [],
   "source": [
    "X = cv.fit_transform(corpus)"
   ]
  },
  {
   "cell_type": "code",
   "execution_count": 156,
   "id": "a623940f-b50e-4aa0-828b-b7d0f9fc3aff",
   "metadata": {},
   "outputs": [
    {
     "data": {
      "text/plain": [
       "{'donald': 19,\n",
       " 'john': 31,\n",
       " 'trump': 63,\n",
       " 'born': 9,\n",
       " 'june': 32,\n",
       " 'american': 1,\n",
       " 'politician': 47,\n",
       " 'medium': 36,\n",
       " 'personality': 45,\n",
       " 'businessman': 12,\n",
       " 'th': 62,\n",
       " 'president': 49,\n",
       " 'united': 64,\n",
       " 'state': 60,\n",
       " 'member': 37,\n",
       " 'republican': 54,\n",
       " 'party': 43,\n",
       " 'served': 55,\n",
       " 'wealthy': 67,\n",
       " 'family': 24,\n",
       " 'new': 39,\n",
       " 'york': 68,\n",
       " 'city': 14,\n",
       " 'graduated': 27,\n",
       " 'university': 65,\n",
       " 'pennsylvania': 44,\n",
       " 'bachelor': 3,\n",
       " 'degree': 17,\n",
       " 'economics': 20,\n",
       " 'became': 5,\n",
       " 'real': 51,\n",
       " 'estate': 22,\n",
       " 'business': 11,\n",
       " 'renamed': 53,\n",
       " 'organization': 41,\n",
       " 'began': 6,\n",
       " 'acquiring': 0,\n",
       " 'building': 10,\n",
       " 'skyscraper': 59,\n",
       " 'hotel': 30,\n",
       " 'casino': 13,\n",
       " 'golf': 26,\n",
       " 'course': 16,\n",
       " 'launched': 33,\n",
       " 'side': 57,\n",
       " 'venture': 66,\n",
       " 'many': 35,\n",
       " 'licensing': 34,\n",
       " 'name': 38,\n",
       " 'filed': 25,\n",
       " 'six': 58,\n",
       " 'bankruptcy': 4,\n",
       " 'hosted': 29,\n",
       " 'reality': 52,\n",
       " 'television': 61,\n",
       " 'show': 56,\n",
       " 'apprentice': 2,\n",
       " 'bolstering': 8,\n",
       " 'fame': 23,\n",
       " 'billionaire': 7,\n",
       " 'presenting': 48,\n",
       " 'political': 46,\n",
       " 'outsider': 42,\n",
       " 'presidential': 50,\n",
       " 'election': 21,\n",
       " 'democratic': 18,\n",
       " 'nominee': 40,\n",
       " 'hillary': 28,\n",
       " 'clinton': 15}"
      ]
     },
     "execution_count": 156,
     "metadata": {},
     "output_type": "execute_result"
    }
   ],
   "source": [
    "cv.vocabulary_"
   ]
  },
  {
   "cell_type": "code",
   "execution_count": 157,
   "id": "b6a28402-b3d3-40dd-b4e5-19c020562993",
   "metadata": {},
   "outputs": [
    {
     "data": {
      "text/plain": [
       "'donald john trump born june american politician medium personality businessman th president united state'"
      ]
     },
     "execution_count": 157,
     "metadata": {},
     "output_type": "execute_result"
    }
   ],
   "source": [
    "corpus[0]"
   ]
  },
  {
   "cell_type": "code",
   "execution_count": 158,
   "id": "ddc84f7e-446f-4af3-9e0e-dd2bfeba18d6",
   "metadata": {},
   "outputs": [
    {
     "data": {
      "text/plain": [
       "array([[0, 1, 0, 0, 0, 0, 0, 0, 0, 1, 0, 0, 1, 0, 0, 0, 0, 0, 0, 1, 0, 0,\n",
       "        0, 0, 0, 0, 0, 0, 0, 0, 0, 1, 1, 0, 0, 0, 1, 0, 0, 0, 0, 0, 0, 0,\n",
       "        0, 1, 0, 1, 0, 1, 0, 0, 0, 0, 0, 0, 0, 0, 0, 0, 1, 0, 1, 1, 1, 0,\n",
       "        0, 0, 0]])"
      ]
     },
     "execution_count": 158,
     "metadata": {},
     "output_type": "execute_result"
    }
   ],
   "source": [
    "X[0].toarray()"
   ]
  }
 ],
 "metadata": {
  "kernelspec": {
   "display_name": "Python [conda env:miniconda3]",
   "language": "python",
   "name": "conda-env-miniconda3-py"
  },
  "language_info": {
   "codemirror_mode": {
    "name": "ipython",
    "version": 3
   },
   "file_extension": ".py",
   "mimetype": "text/x-python",
   "name": "python",
   "nbconvert_exporter": "python",
   "pygments_lexer": "ipython3",
   "version": "3.13.5"
  }
 },
 "nbformat": 4,
 "nbformat_minor": 5
}
